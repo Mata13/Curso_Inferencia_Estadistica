{
 "cells": [
  {
   "cell_type": "markdown",
   "id": "be8a6bd2-44b6-4511-908e-63bf15d84999",
   "metadata": {},
   "source": [
    "<font color='IndianRed'>\n",
    "<font size=9> \n",
    "\n",
    "**Curso Inferencia Estadística**"
   ]
  },
  {
   "cell_type": "markdown",
   "id": "39ecd8b6-fd0c-430d-998f-071c82d64a88",
   "metadata": {},
   "source": [
    "<font color = 'DodgerBlue'>\n",
    "<font size = 5>\n",
    "    \n",
    "**Variables aleatorias**"
   ]
  },
  {
   "cell_type": "markdown",
   "id": "313c2140-ecc3-4b93-bd84-bfb6a39ff42a",
   "metadata": {},
   "source": [
    "<font color = 'Black'>\n",
    "<font size = 3>\n",
    "\n",
    "Una **variable aleatoria** es una manera de asignar números a los eventos que pueden suceder durante un experimento, medición o fenómeno (formalmente es una función medible)."
   ]
  },
  {
   "cell_type": "code",
   "execution_count": null,
   "id": "fa5e3edb-39ac-4620-95cb-0379551d19c3",
   "metadata": {},
   "outputs": [],
   "source": []
  }
 ],
 "metadata": {
  "kernelspec": {
   "display_name": "Python 3 (ipykernel)",
   "language": "python",
   "name": "python3"
  },
  "language_info": {
   "codemirror_mode": {
    "name": "ipython",
    "version": 3
   },
   "file_extension": ".py",
   "mimetype": "text/x-python",
   "name": "python",
   "nbconvert_exporter": "python",
   "pygments_lexer": "ipython3",
   "version": "3.10.15"
  }
 },
 "nbformat": 4,
 "nbformat_minor": 5
}
